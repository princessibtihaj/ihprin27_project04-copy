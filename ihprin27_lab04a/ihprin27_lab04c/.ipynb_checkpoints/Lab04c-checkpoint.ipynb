{
 "cells": [
  {
   "cell_type": "markdown",
   "metadata": {},
   "source": [
    "**YOUR NAME**\n",
    "\n",
    "Fall 2024\n",
    "\n",
    "CS 251: Data Analysis and Visualization"
   ]
  },
  {
   "cell_type": "markdown",
   "metadata": {},
   "source": [
    "# Lab 4c | PCA and Image Compression\n",
    "\n",
    "In the project, you will be taking advantage of the similarity across a set of similar images to compress the entire set. In the lab, you will be taking advantage of the similarty of across rows in a single image to compress the single image."
   ]
  },
  {
   "cell_type": "code",
   "execution_count": null,
   "metadata": {},
   "outputs": [],
   "source": [
    "import numpy as np\n",
    "import matplotlib.pyplot as plt\n",
    "\n",
    "\n",
    "plt.style.use(['seaborn-v0_8-colorblind', 'seaborn-v0_8-dark'])\n",
    "plt.rcParams.update({'font.size': 10})\n",
    "plt.rcParams.update({'figure.figsize': [7,7]})\n",
    "\n",
    "np.set_printoptions(suppress=True, precision=5)"
   ]
  },
  {
   "cell_type": "markdown",
   "metadata": {},
   "source": [
    "## Task 1: Preparing the Grayscale Image\n",
    "\n",
    "### 1a. Import and view an image\n",
    "\n",
    "1. Import `lorikeet_grayscale.npy` using numpy's [load] (https://numpy.org/doc/stable/reference/generated/numpy.load.html)\n",
    "2. Print the shape of the numpy array. It should be 2D with 678 rows and 907 columns. We will treat it as a grayscale image.\n",
    "3. Display the image using pyplot's [imshow](https://matplotlib.org/stable/api/_as_gen/matplotlib.pyplot.imshow.html).\n",
    "4. Show the pyplot\n"
   ]
  },
  {
   "cell_type": "code",
   "execution_count": null,
   "metadata": {},
   "outputs": [],
   "source": [
    "# Your code here"
   ]
  },
  {
   "cell_type": "markdown",
   "metadata": {},
   "source": [
    "### 1b. Compute and display mean image row\n",
    "\n",
    "1. In PCA, we use the principal components to reconstruct data by adding/substracting values from the mean. So let's look at the mean across all the features. That means we calculate the mean row of the image. Store it in a variable named `img_orig_means`. It should have the shape `(907,)`.\n",
    "2. Plot the mean row (reshaped to `(1, 907)` using `imshow`. Since that image will be 1 row and 907 columns, it will not be tall enough for us to see the color unless we change the aspect ratio. Set the `aspect` parameter to `100`."
   ]
  },
  {
   "cell_type": "code",
   "execution_count": null,
   "metadata": {},
   "outputs": [],
   "source": [
    "# Your code here"
   ]
  },
  {
   "cell_type": "markdown",
   "metadata": {},
   "source": [
    "*Question 1*: Can you relate the mean row to the entire image? I.e. does this make sense? "
   ]
  },
  {
   "cell_type": "markdown",
   "metadata": {},
   "source": [
    "*Answer 1*:"
   ]
  },
  {
   "cell_type": "markdown",
   "metadata": {},
   "source": [
    "## Task 2:  Compress the Image\n",
    "\n",
    "### Find the Image's Principal Components\n",
    "\n",
    "Use Sci-kit Learn's [PCA class](https://scikit-learn.org/stable/modules/generated/sklearn.decomposition.PCA.html) to extract the image's eigenvectors and the principal components\n",
    "1. Create an instance of the PCA class with 400 components (this means we compute only the first 400 principal components)\n",
    "2. Call the method `fit_transform` with the image as the X parameter and saving the results into a new variable representing the Transformed values.\n",
    "3. Print the shape of the Transformed values and the PCA's components.  The Transformed values should have the shape `(678, 400)` and the PCA's components should have the shape `(400, 907)`\n",
    "4. Create an elbow plot of the [cumulative sum](https://numpy.org/doc/stable/reference/generated/numpy.cumsum.html) of the [PCA's](https://scikit-learn.org/stable/modules/generated/sklearn.decomposition.PCA.html) explained variance ratio.\n",
    "    1. The x axis should be `# of Principal Components`\n",
    "    2. The y axis should be `Proportional Variance Accounted for`\n",
    "    3. Include a title, and x and y axis labels"
   ]
  },
  {
   "cell_type": "code",
   "execution_count": null,
   "metadata": {
    "scrolled": false
   },
   "outputs": [],
   "source": [
    "from sklearn.decomposition import PCA\n",
    "\n",
    "# Your code here"
   ]
  },
  {
   "cell_type": "markdown",
   "metadata": {},
   "source": [
    "## Task 3: Reconstruct the Image \n",
    "\n",
    "### 3a. Reconstruct the image, given the number of principal components\n",
    "\n",
    "Below we supply the code and the instructions to write a function that reconstructs an image and displays it:\n",
    "1. Compute the inverse transform:\n",
    "    1. `transformed_values @ principal_components + orig_var_means`\n",
    "    2. With shapes `(R, k) @ (k, C) + (C,)`\n",
    "    3. With `k` equal to the number of principal components you are keeping\n",
    "2. Show the reconstructed image\n",
    "    1. Use numpy's [clip](https://numpy.org/doc/stable/reference/generated/numpy.clip.html) method to clip any values less than 0 or greater than 1 in the reconstructed image.\n",
    "    2. Reshape the reconstructed image back to the shape of the original image\n",
    "    3. Display the image using pyplot's [imshow](https://matplotlib.org/stable/api/_as_gen/matplotlib.pyplot.imshow.html)\n",
    "    4. Show the pyplot\n",
    "3. Compute the compression ratio of this image\n",
    "    1. Uncompressed size =  the number of floats in the original image `R*C*n_chans`\n",
    "    2. Compressed size = the number of floats required to compute the inverse transform `R*k + k*C*n_chans + C*n_chans`\n",
    "    3. Compression ratio = Compressed size / Uncompressed size"
   ]
  },
  {
   "cell_type": "code",
   "execution_count": null,
   "metadata": {},
   "outputs": [],
   "source": [
    "def reconstruct_grayscale(pca, img_orig, img_orig_means, img_transformed, num):\n",
    "    ''' Reconstruct and display a grayscale image\n",
    "        pca: the PCA object associated with the flatten image\n",
    "        img_orig: the original image\n",
    "        img_orig_means: the mean row of the image\n",
    "        img_transformed: this was computer earlier using fit_transform\n",
    "        num: the number of principal components to use in the reconstruction\n",
    "    '''\n",
    "    print(f'{img_transformed.shape=}, {pca.components_.shape=}')\n",
    "    temp = img_transformed[:,:num] @ pca.components_[:num] + img_orig_means\n",
    "    \n",
    "    ratio_num = num*img_transformed.shape[0] + num*pca.components_.shape[1] + pca.components_.shape[1]\n",
    "    ratio_denom = np.prod(img_orig.shape)\n",
    "    print(\"Compression Ratio:\", ratio_num/ratio_denom)\n",
    "    \n",
    "    print(\"Proportional Variance Accounted for:\", np.sum(pca.explained_variance_ratio_[:num]) )\n",
    "    \n",
    "    temp = np.reshape(temp, img_orig.shape)\n",
    "    plt.imshow(np.clip(temp, 0, 1))\n",
    "    plt.show()"
   ]
  },
  {
   "cell_type": "markdown",
   "metadata": {},
   "source": [
    "### 3b. Reconstruct with increasing variation explained\n",
    "\n",
    "1. Reconstruct the image using just 1 principal components\n",
    "2. Reconstruct the image using 10 principal components\n",
    "3. Using the elbow plot, determine a number of principal components which account for roughly 90-91% percent of the proportional variance in the image."
   ]
  },
  {
   "cell_type": "code",
   "execution_count": null,
   "metadata": {},
   "outputs": [],
   "source": [
    "# Your code here. Call reconstruct_grayscale 3 times."
   ]
  },
  {
   "cell_type": "markdown",
   "metadata": {},
   "source": [
    "## Task 4: Preparing the Color Image\n",
    "\n",
    "A color image needs four pieces of information per pixel - the amount of red, blue, and green, as well as the transparency ([alpha channel](https://en.wikipedia.org/wiki/Alpha_channel)). That means a color image has 3 dimensions (rows, columns, 4). We need to flatten the image to 2 dimensions before we can apply PCA to it. Each feature will now be one of the 4 channels of a pixel. \n",
    "\n",
    "### 4a. Import and view an image\n",
    "\n",
    "1. Import `lorikeet.png` using pyplot's [imread](https://matplotlib.org/stable/api/_as_gen/matplotlib.pyplot.imread.html)\n",
    "2. Print the shape of the image. \n",
    "3. Display the image using pyplot's [imshow](https://matplotlib.org/stable/api/_as_gen/matplotlib.pyplot.imshow.html).(https://matplotlib.org/stable/api/_as_gen/matplotlib.pyplot.grid.html).\n",
    "4. Show the pyplot\n"
   ]
  },
  {
   "cell_type": "code",
   "execution_count": null,
   "metadata": {},
   "outputs": [],
   "source": [
    "# Your code here"
   ]
  },
  {
   "cell_type": "markdown",
   "metadata": {},
   "source": [
    "### 4b. Reshape and compute original variable means\n",
    "\n",
    "1. Reshape your image for compression\n",
    "    1. Reshape your 3 dimensional `(R, C, n_chans)` array to be a 2 dimensional `(R, C*n_chans)` array and assign it to a new variable (`color_flat`).\n",
    "    2. Print out the shape of `color_flat`.\n",
    "2. Calculate the [means](https://numpy.org/doc/stable/reference/generated/numpy.mean.html) of each variable in  `color_flat` (columns) and assign it to a new variable `img_color_means`. Your means should have the shape `(C*n_chans,)`\n",
    "3. Plot the mean row (reshaped to `(1, 3628)` using `imshow`. Since that image will be 1 row and 3628 columns, it will not be tall enough for us to see the color unless we change the aspect ratio. Set the `aspect` parameter to `400`. *The image will appear in grayscale because it will be interpreted by imshow to be times as wide -- each channel will be treated as a separate pixel. This is good because this helps us to think about what the features are in this case.*\n",
    "4. Plot it again, but in color. Reshape the image to use the 4 color channels, e.g. it should have 1 row, the original number of columns, and 4 color channels. Then plot the new mean row using `imshow` as above, but with `aspect=100`."
   ]
  },
  {
   "cell_type": "code",
   "execution_count": null,
   "metadata": {
    "scrolled": true
   },
   "outputs": [],
   "source": [
    "# Your code here"
   ]
  },
  {
   "cell_type": "markdown",
   "metadata": {},
   "source": [
    "*Question 2*: Can you relate the mean row to the entire image? I.e. does this make sense? "
   ]
  },
  {
   "cell_type": "markdown",
   "metadata": {},
   "source": [
    "*Answer 2*:"
   ]
  },
  {
   "cell_type": "markdown",
   "metadata": {},
   "source": [
    "## Task 5:  Compress the Image\n",
    "\n",
    "### Find the Image's Principal Components\n",
    "\n",
    "Use Sci-kit Learn's [PCA class](https://scikit-learn.org/stable/modules/generated/sklearn.decomposition.PCA.html) to extract the image's eigenvectors and the principal components\n",
    "1. Create an instance of the PCA class with 400 components\n",
    "2. Call the method `fit_transform` with `color_flat` as the X parameter and saving the results into a new variable representing the Transformed values.\n",
    "3. Print the shape of the Transformed values and the PCA's components.  The Transformed values should have the shape `(R, 400)` and the PCA's components should have the shape `(400, C*n_chans)`\n",
    "4. Create an elbow plot of the [cumulative sum](https://numpy.org/doc/stable/reference/generated/numpy.cumsum.html) of the [PCA's](https://scikit-learn.org/stable/modules/generated/sklearn.decomposition.PCA.html) explained variance ratio.\n",
    "    1. The x axis should be `# of Principal Components`\n",
    "    1. The y axis should be `Proportional Variance Accounted for`\n",
    "    1. Include a title, and x and y axis labels."
   ]
  },
  {
   "cell_type": "code",
   "execution_count": null,
   "metadata": {
    "scrolled": false
   },
   "outputs": [],
   "source": [
    "# Your code here"
   ]
  },
  {
   "cell_type": "markdown",
   "metadata": {},
   "source": [
    "## Task 6: Reconstruct the Image \n",
    "\n",
    "### 3a. Reconstruct the image, given the number of principal components\n",
    "\n",
    "Write a function `reconstruct_color` that follows the steps below. It is almost the same as `reconstruct_grayscale`, but requires more reshaping.\n",
    "\n",
    "1. Compute the inverse transform:\n",
    "    1. `transformed_values @ principal_components + orig_var_means`\n",
    "    2. With shapes `(R, k) @ (k, C*n_chans) + (C*n_chans,)`\n",
    "    3. With `k` equal to the number of principal components you are keeping\n",
    "2. Show the reconstructed image\n",
    "    1. Use numpy's [clip](https://numpy.org/doc/stable/reference/generated/numpy.clip.html) method to clip any values less than 0 or greater than 1 in the reconstructed image.\n",
    "    2. Reshape the reconstructed image back to the shape of the original image\n",
    "    3. Display the image using pyplot's [imshow](https://matplotlib.org/stable/api/_as_gen/matplotlib.pyplot.imshow.html)\n",
    "    4. Show the pyplot\n",
    "3. Compute the compression ratio of this image\n",
    "    1. Uncompressed size =  the number of floats in the original image `R*C*n_chans`\n",
    "    2. Compressed size = the number of floats required to compute the inverse transform `R*k + k*C*n_chans + C*n_chans`\n",
    "    3. Compression ratio = Compressed size / Uncompressed size"
   ]
  },
  {
   "cell_type": "code",
   "execution_count": null,
   "metadata": {},
   "outputs": [],
   "source": [
    "def reconstruct_color(pca, img, img_flat_means, img_transformed, num):\n",
    "    ''' Reconstruct and display a color image\n",
    "        pca: the PCA object associated with the flatten image\n",
    "        img: the original color image (should be 3D)\n",
    "        img_flat_means: the mean of the flattened (2D) image\n",
    "        img_transformed: this was computer earlier using fit_transform\n",
    "        num: the number of principal components to use in the reconstruction\n",
    "    '''\n",
    "    pass\n",
    "    # Your code here"
   ]
  },
  {
   "cell_type": "markdown",
   "metadata": {},
   "source": [
    "### 6b. Reconstruct with increasing variation explained\n",
    "\n",
    "1. Reconstruct the image using just 1 principal components\n",
    "2. Reconstruct the image using 10 principal components\n",
    "3. Using the elbow plot, determine a number of principal components which account for roughly 90-91% percent of the proportional variance in the image."
   ]
  },
  {
   "cell_type": "code",
   "execution_count": null,
   "metadata": {},
   "outputs": [],
   "source": [
    "# Your code here"
   ]
  },
  {
   "cell_type": "markdown",
   "metadata": {},
   "source": [
    "## Turn in your lab\n",
    "\n",
    "Follow the usual submission format and submit your lab on Google Classroom."
   ]
  }
 ],
 "metadata": {
  "kernelspec": {
   "display_name": "Python 3",
   "language": "python",
   "name": "python3"
  },
  "language_info": {
   "codemirror_mode": {
    "name": "ipython",
    "version": 3
   },
   "file_extension": ".py",
   "mimetype": "text/x-python",
   "name": "python",
   "nbconvert_exporter": "python",
   "pygments_lexer": "ipython3",
   "version": "3.8.5"
  }
 },
 "nbformat": 4,
 "nbformat_minor": 4
}
