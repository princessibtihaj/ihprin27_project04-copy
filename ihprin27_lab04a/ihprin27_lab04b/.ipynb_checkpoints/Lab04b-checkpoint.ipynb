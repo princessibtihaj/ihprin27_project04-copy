{
 "cells": [
  {
   "cell_type": "markdown",
   "metadata": {},
   "source": [
    "**YOUR NAME**\n",
    "\n",
    "Fall 2024\n",
    "\n",
    "CS 251: Data Analysis and Visualization"
   ]
  },
  {
   "cell_type": "markdown",
   "metadata": {},
   "source": [
    "# Lab 4b | Principal Component Analysis"
   ]
  },
  {
   "cell_type": "code",
   "execution_count": null,
   "metadata": {},
   "outputs": [],
   "source": [
    "import numpy as np\n",
    "import matplotlib.pyplot as plt\n",
    "import matplotlib.colors\n",
    "import pandas as pd\n",
    "\n",
    "plt.style.use(['seaborn-v0_8-colorblind', 'seaborn-v0_8-dark'])\n",
    "plt.rcParams.update({'font.size': 16})\n",
    "plt.rcParams.update({'figure.figsize': [6,6]})\n",
    "\n",
    "np.set_printoptions(suppress=True, precision=5)"
   ]
  },
  {
   "cell_type": "markdown",
   "metadata": {},
   "source": [
    "## Task 1: Visualize PCA for a 2D dog data set\n",
    "\n",
    "The goal of this lab is for you to gain experience visualizing the covariance matrix and principal components. We begin with a data set that has the mid-range value for height (in inches) and weight (in pounds) for each of 146 dog breeds. The data set was constructed from part of a data set made available on Kaggle (https://www.kaggle.com/datasets/jasleensondhi/dog-intelligence-comparison-based-on-size).\n",
    "\n",
    "### Task 1a: Scatter plot the original and normalized data\n",
    "\n",
    "1. Use pandas to read data/AKC_Breed_Inof_mid.csv in a data fram\n",
    "2. Examine the contents of the data frame\n",
    "3. Make a data frame that has just the weight (first) and height (second) columns. You can do that by indexing into the data frame with the list `['weight_mid_lbs','height_mid_inches']`. Store it in a variable named `x_df`\n",
    "4. Scatter plot the height vs weight (i.e. height on y-axis, weight on x-axis)\n",
    "5. Normalize ths columns by subtracting the min and then dividing the difference by the max minus min (storing the result in `x_df`). Note that since you are operating with a data frame, you do not need to supply axis information - it will automatically apply the operation along each column.\n",
    "6. In a new figure, scatter plot the normalized height vs weight."
   ]
  },
  {
   "cell_type": "code",
   "execution_count": null,
   "metadata": {},
   "outputs": [],
   "source": [
    "# Your code here"
   ]
  },
  {
   "cell_type": "markdown",
   "metadata": {},
   "source": [
    "### 1b. Create and visualize a covariance matrix\n",
    "\n",
    "1. Use the [Dataframe](https://pandas.pydata.org/pandas-docs/stable/reference/frame.html) documentation to find out how to compute the covariance matrix of the `x_df` columns, store it in a variable, and print its shape.\n",
    "2. Use the [matplotlib](https://matplotlib.org/stable/gallery/images_contours_and_fields/image_annotated_heatmap.html) and [imshow](https://matplotlib.org/stable/api/_as_gen/matplotlib.axes.Axes.imshow.html) documentation to visualize the covariance matrix with a heatmap.\n",
    "    1. Include a title\n",
    "    2. Include labels for each row and column \n",
    "        1. Set the xticks, yticks, xticklabels and ytickslabels. When setting the xtick labels, rotate them so they are readable and horizontally align them to the right (i.e. `ha='right'`). You can also use `setp` to handle rotating the x-axis tick labels.\n",
    "    3. Use an perceptually uniform sequential [colormap](https://matplotlib.org/tutorials/colors/colormaps.html). \n",
    "        1. Set it using the `cmap` parameter for `imshow`\n",
    "    4. Include a `colorbar`. This can be achieved by assigning a variable to your `imshow` call and then passing in that variable as a parameter to `plt.colorbar`. If that does not work, the [this example code](https://matplotlib.org/stable/gallery/images_contours_and_fields/image_annotated_heatmap.html#using-the-helper-function-code-style) may be helpful.\n",
    "\n",
    "*Your heatmap should show a 2x2 grid of colored squares.*"
   ]
  },
  {
   "cell_type": "code",
   "execution_count": null,
   "metadata": {},
   "outputs": [],
   "source": [
    "# Your code here"
   ]
  },
  {
   "cell_type": "markdown",
   "metadata": {},
   "source": [
    "### 1c. Questions\n",
    "\n",
    "**Question 1:** What interpretations can you draw from this covariance matrix?"
   ]
  },
  {
   "cell_type": "markdown",
   "metadata": {},
   "source": [
    "**Answer 1:**"
   ]
  },
  {
   "cell_type": "markdown",
   "metadata": {},
   "source": [
    "### 1d. Performing PCA\n",
    "\n",
    "Use Sci-kit Learn's [PCA class](https://scikit-learn.org/stable/modules/generated/sklearn.decomposition.PCA.html) to apply PCA to the dog dataset.\n",
    "1. Create an instance of the PCA class with 2 components. *This means that we will compute all the principal components (eigenvectors of the covariance matrix) for our 2-D data set*.\n",
    "2. Call the method `fit_` with `x_df` as the X parameter.\n",
    "3. Store the transpose of the `components_` field of the PCA object in an variable named e_vecs. Then print it. The output should be\n",
    "\n",
    "`[[ 0.6031   0.79766]\n",
    " [ 0.79766 -0.6031 ]]`\n",
    "\n",
    "Each column of `e_vecs` is a principal component.\n",
    "\n",
    "4. Store the `explained_variance_` field of the PCA object in a variable named `e_vals`. The first entry in `e_vals` is the eigen-value associated with the first column of `e_vecs`. Print the values. They should be `[0.09758 0.00696]`"
   ]
  },
  {
   "cell_type": "code",
   "execution_count": null,
   "metadata": {},
   "outputs": [],
   "source": [
    "from sklearn.decomposition import PCA"
   ]
  },
  {
   "cell_type": "code",
   "execution_count": null,
   "metadata": {},
   "outputs": [],
   "source": [
    "# Your code here"
   ]
  },
  {
   "cell_type": "markdown",
   "metadata": {},
   "source": [
    "### 1e. Visualize the vectors on the scatter plot\n",
    "\n",
    "When we perform PCA in just two dimensions, it is helpful to plot the eigenvectors as vectors on the scatter plot, so we can clearly identify the primary and secondary directions of variation in the data. The vectors should start at the center of the data and their lengths should be proportional to their associated eigenvalues (so we can capture the relative importance of the directions). You should think of the entries in the eigenvectors as slopes. For the sake of simplicity (and time), I have worked out the scale you should use for this example (it is 8).\n",
    "\n",
    "1. Compute the center of the data and store it as a numpy array (rather than as a data frame): `center = x_df.mean().to_numpy()`\n",
    "2. Scatter plot the columns of x_df as above (copy-paste your code)\n",
    "3. Using the `plot` function, plot the first vector. Provide x-coordinates for the beginning of the line (`center[0]`) and the end, which is computed by adding 8 times the first `e_val` times the x-coordinate of the first eigenvector (i.e. `e_vec[0,0]`). Provide the y-coordinates for the begining (`center[1]`) and end, which is computed by adding 8 times the first `e_val` times the y-coordinate of the first eigenvector (i.e. `e_vec[1,0]`)\n",
    "4. Plot the second vector in a similar fashion. Just use the second egeinvalue and second eigenvector instead of the first."
   ]
  },
  {
   "cell_type": "code",
   "execution_count": null,
   "metadata": {},
   "outputs": [],
   "source": [
    "# Your code here"
   ]
  },
  {
   "cell_type": "markdown",
   "metadata": {},
   "source": [
    "### 1f. Visualize the PCA loadings as a heat map\n",
    "\n",
    "When we have more than 2 dimensions, we need to use alternate forms of visualization, so let's look at an alternate method now, so we can compare it to the vector version about. We introduce a new term -- **loadings**. In PCA, the **loadings** refer to the numbers that make up the principal component vectors (i.e. the eigenvectors). The shape of the loadings (eigenvectors) are `(k, M)` where `k` is the number of PCs and `M` is the number of original variables in the dataset. This task focuses on visualizing and interpreting what the loadings mean.\n",
    "\n",
    "Use [imshow](https://matplotlib.org/stable/api/_as_gen/matplotlib.pyplot.imshow.html) to make a heatmap of the loadings (which are in `e_vecs`).\n",
    "   \n",
    "1. Include a title.\n",
    "2. Set the `xticks`, `yticks`, `xticklabels` and `ytickslabels`. The y tick labels (rows) should show the original 2 variable names. The 2 x tick labels should be labeled with `'PC1'` and `'PC2'`.\n",
    "3. Use an perceptually uniform **diverging** [colormap](https://matplotlib.org/tutorials/colors/colormaps.html). Set it using the `cmap` parameter for `imshow`.\n",
    "4. To ensure that 0 is indicated by the neutral/middle color in the colormap, we need the data to be color-mapped using a range that is centered on zero. Compute the magnitude of the loadings (the maximim absolute loading). If you store that magnitude in a variable, named `mag`, then you can add the parameter and value to the imshow call: `norm=matplotlib.colors.Normalize(-mag,mag)`.\n",
    "5. Include a `colorbar`. This can be achieved by assigning a variable to your `imshow` call and then passing in that variable as a parameter to `plt.colorbar`. If that does not work, the [this example code](https://matplotlib.org/stable/gallery/images_contours_and_fields/image_annotated_heatmap.html#using-the-helper-function-code-style) may be helpful."
   ]
  },
  {
   "cell_type": "code",
   "execution_count": null,
   "metadata": {
    "scrolled": true
   },
   "outputs": [],
   "source": [
    "# Your code here"
   ]
  },
  {
   "cell_type": "markdown",
   "metadata": {},
   "source": [
    "### 1g. Questions\n",
    "\n",
    "**Question 2:** Interpret the loadings of PC1 and PC2 by relating them to the vector plot above. Also, does height or weight play a larger role in the first vector? "
   ]
  },
  {
   "cell_type": "markdown",
   "metadata": {},
   "source": [
    "**Answer 2:**"
   ]
  },
  {
   "cell_type": "markdown",
   "metadata": {},
   "source": [
    "## Task 2: PCA on a cancer data set\n",
    "\n",
    "### 2a. Load and preprocess\n",
    "\n",
    "To get a tate of PCA for a larger data set, we will use the [Wisconsin Breast Cancer dataset](https://archive.ics.uci.edu/ml/datasets/Breast+Cancer+Wisconsin+(Original)) this week. To keep the lab assignment manageable, we provide some of the code (you can think of the instructions as explanations of the code, in this case).\n",
    "\n",
    "1. Import dataset using pandas [read_csv](https://pandas.pydata.org/pandas-docs/stable/reference/api/pandas.read_csv.html) to create a Dataframe from the url:  https://raw.githubusercontent.com/patrickmlong/Breast-Cancer-Wisconsin-Diagnostic-DataSet/master/data.csv\n",
    "2. Create a `cancer_x` DataFrame which includes all of the columns that have the word \"mean\" in the title (*there should be 10 in total*).\n",
    "3. Print out a summary of the `cancer_x` DataFrame.\n",
    "4. Update `cancer_x` so that each variable is min-max normalized. Print out a summary of the updated DataFrame.\n",
    "5. `diagnosis` is a categorical variable (`M` stands for \"malignant\" and `B` stands for \"benign\"). Create a `cancer_y` Series with from the column `diagnosis` and convert the data type to [categorical](https://pandas.pydata.org/docs/user_guide/categorical.html).\n",
    "    1. In Task 2 of this lab you will use `diagnosis` to color-code a scatter plot of the cancer data. Use [rename_categories](https://pandas.pydata.org/pandas-docs/stable/user_guide/categorical.html#renaming-categories) to replace the categorical levels with color string names. To do this, pass in a dictionary as the parameter that maps the strings `'M'` and `'B'` to [colors](https://matplotlib.org/stable/gallery/color/named_colors.html) of your choice (e.g. `'red'`, `'blue'`). By default, the `rename_categories` method doesn't update the DataFrame when you call it, so don't forget to update the value of `cancer_y` by assigning it to the output of your `rename_categories` method call.\n",
    "    2. Print out `cancer_y`. You should see the `dtype` as `category` and the values should be one of two named color strings (e.g. `'red'`, `'blue'`)."
   ]
  },
  {
   "cell_type": "code",
   "execution_count": null,
   "metadata": {},
   "outputs": [],
   "source": [
    "url=\"https://raw.githubusercontent.com/patrickmlong/Breast-Cancer-Wisconsin-Diagnostic-DataSet/master/data.csv\"\n",
    "\n",
    "# Note that if it does not work for you to read the file directly\n",
    "# from the internet, then follow the link in a browser, download the file, \n",
    "# and read it directly from your computer\n",
    "cancer_data = pd.read_csv(url) \n",
    "\n",
    "x_names = ['radius_mean', 'texture_mean', 'perimeter_mean',\n",
    "       'area_mean', 'smoothness_mean', 'compactness_mean', 'concavity_mean',\n",
    "       'concave points_mean', 'symmetry_mean', 'fractal_dimension_mean']\n",
    "cancer_x = cancer_data[x_names]\n",
    "print('Means of cancer_x:\\n', cancer_x.mean())\n",
    "\n",
    "cancer_x = (cancer_x-cancer_x.min())/(cancer_x.max()-cancer_x.min())\n",
    "cancer_y = cancer_data['diagnosis'].astype('category')\n",
    "cancer_y = cancer_y.cat.rename_categories({'M': 'red', 'B': 'blue'})\n",
    "print(cancer_y)"
   ]
  },
  {
   "cell_type": "markdown",
   "metadata": {},
   "source": [
    "### 2b. Visualize with pair-plots\n",
    "\n",
    "Scatter plot the data with every pair of features, using the diagnosis for the color. Label the y-axis of the first column and the x-axis of the bottom row with the feature names. Do not use any x- or y-ticks."
   ]
  },
  {
   "cell_type": "code",
   "execution_count": null,
   "metadata": {},
   "outputs": [],
   "source": [
    "# pair plot\n",
    "plt.figure( figsize=(14,14))\n",
    "cx = cancer_x.to_numpy()\n",
    "for row_idx in range(cx.shape[1]):\n",
    "    for col_idx in range(cx.shape[1]):\n",
    "        plt.subplot( cx.shape[1], cx.shape[1], row_idx*cx.shape[1]+col_idx+1 )\n",
    "        plt.scatter( cx[:,col_idx], cx[:,row_idx], color=cancer_y, alpha=0.2 )\n",
    "        plt.xticks([])\n",
    "        plt.yticks([])\n",
    "        if row_idx == cx.shape[1]-1:\n",
    "            plt.xlabel( x_names[col_idx] )\n",
    "        if col_idx == 0:\n",
    "            plt.ylabel( x_names[row_idx])\n",
    "plt.tight_layout()\n",
    "plt.show()"
   ]
  },
  {
   "cell_type": "markdown",
   "metadata": {},
   "source": [
    "### 2c. Create and visualize a covariance matrix\n",
    "\n",
    "1. Use the [Dataframe](https://pandas.pydata.org/pandas-docs/stable/reference/frame.html) documentation to find out how to compute the covariance matrix of the `cancer_x` columns, store it in a variable, and print its shape.\n",
    "2. Use the [matplotlib](https://matplotlib.org/stable/gallery/images_contours_and_fields/image_annotated_heatmap.html) and [imshow](https://matplotlib.org/stable/api/_as_gen/matplotlib.axes.Axes.imshow.html) documentation to visualize the covariance matrix with a heatmap.\n",
    "    1. Include a title\n",
    "    2. Include labels for each row and column \n",
    "        1. Set the xticks, yticks, xticklabels and ytickslabels. When setting the xtick labels, rotate them so they are readable and horizontally align them to the right (i.e. `ha='right'`). You can also use `setp` to handle rotating the x-axis tick labels.\n",
    "    3. Use an perceptually uniform sequential [colormap](https://matplotlib.org/tutorials/colors/colormaps.html). \n",
    "        1. Set it using the `cmap` parameter for `imshow`\n",
    "    4. Include a `colorbar`. This can be achieved by assigning a variable to your `imshow` call and then passing in that variable as a parameter to `plt.colorbar`. If that does not work, the [this example code](https://matplotlib.org/stable/gallery/images_contours_and_fields/image_annotated_heatmap.html#using-the-helper-function-code-style) may be helpful.\n",
    "\n",
    "*Your heatmap should show a 10x10 grid of colored squares.*"
   ]
  },
  {
   "cell_type": "code",
   "execution_count": null,
   "metadata": {},
   "outputs": [],
   "source": [
    "# Your code here"
   ]
  },
  {
   "cell_type": "markdown",
   "metadata": {},
   "source": [
    "### 2d. Questions\n",
    "\n",
    "**Question 3:** What interpretations can you draw from this covariance matrix?"
   ]
  },
  {
   "cell_type": "markdown",
   "metadata": {},
   "source": [
    "**Answer 3:**"
   ]
  },
  {
   "cell_type": "markdown",
   "metadata": {},
   "source": [
    "### 2c. Performing PCA\n",
    "\n",
    "Use Sci-kit Learn's [PCA class](https://scikit-learn.org/stable/modules/generated/sklearn.decomposition.PCA.html) to apply PCA to the cancer dataset.\n",
    "1. Create an instance of the PCA class with `len(x_names)` components. *This means that we will compute all 10 eigenvectors in our 10-D data set*.\n",
    "2. Call the method `fit_` with `cancer_x` as the X parameter.\n",
    "3. Store the transpose of the `components_` field of the PCA object in an variable named e_vecs. Print the shape to verify it is `(10,10)`. Note that each column of `e_vecs` is a principal component.\n",
    "4. Store the `explained_variance_` field of the PCA object in a variable named `e_vals`. The first entry in `e_vals` is the eigen-value associated with the first column of `e_vecs`, etc. Print the values. There should be 10."
   ]
  },
  {
   "cell_type": "code",
   "execution_count": null,
   "metadata": {},
   "outputs": [],
   "source": [
    "# Your code here"
   ]
  },
  {
   "cell_type": "markdown",
   "metadata": {},
   "source": [
    "### 2d. Visualize the PCA loadings\n",
    "\n",
    "As above, plot the loadings for all of the principal components.\n",
    "\n",
    "1. Print out the shape of the loadings (`e_vecs`). \n",
    "2. Use [imshow](https://matplotlib.org/stable/api/_as_gen/matplotlib.pyplot.imshow.html) to make a heatmap of the loadings. You should plot the **transposed** loadings, which will make your plot more readable — i.e. your heatmap should be taller than it is wide.\n",
    "   1. Make the figure large enough that all the tick labels will fit (e.g. width of 12). Also, include a title.\n",
    "   2. Set the `xticks`, `yticks`, `xticklabels` and `ytickslabels`. The y tick labels (rows) should show the original 10 variable names. The x tick labels should be labeled with `'PC1'`, `'PC2'`, ..., `'PC10'`.\n",
    "   3. Use an perceptually uniform **diverging** [colormap](https://matplotlib.org/tutorials/colors/colormaps.html). Set it using the `cmap` parameter for `imshow`.\n",
    "   4. To ensure that 0 is indicated by the neutral/middle color in the colormap, we need the data to be color-mapped using a range that is centered on zero. Compute the magnitude of the loadings (the maximim absolute loading). If you store that magnitude in a variable, named `mag`, then you can add the parameter and value to the imshow call: `norm=matplotlib.colors.Normalize(-mag,mag)`.\n",
    "   5. Include a `colorbar`. This can be achieved by assigning a variable to your `imshow` call and then passing in that variable as a parameter to `plt.colorbar`. If that does not work, the [this example code](https://matplotlib.org/stable/gallery/images_contours_and_fields/image_annotated_heatmap.html#using-the-helper-function-code-style) may be helpful."
   ]
  },
  {
   "cell_type": "code",
   "execution_count": null,
   "metadata": {},
   "outputs": [],
   "source": [
    "# Your code here"
   ]
  },
  {
   "cell_type": "markdown",
   "metadata": {},
   "source": [
    "### 2e. Questions\n",
    "\n",
    "**Question 4:** Interpret the loadings of PC1 and PC2. Which variables in the cancer dataset are most positively and negatively correlated with each PC?"
   ]
  },
  {
   "cell_type": "markdown",
   "metadata": {},
   "source": [
    "**Answer 4:**"
   ]
  },
  {
   "cell_type": "markdown",
   "metadata": {},
   "source": [
    "## Turn in your lab\n",
    "\n",
    "Follow the usual submission format and submit your lab on Google Classroom."
   ]
  }
 ],
 "metadata": {
  "kernelspec": {
   "display_name": "Python 3",
   "language": "python",
   "name": "python3"
  },
  "language_info": {
   "codemirror_mode": {
    "name": "ipython",
    "version": 3
   },
   "file_extension": ".py",
   "mimetype": "text/x-python",
   "name": "python",
   "nbconvert_exporter": "python",
   "pygments_lexer": "ipython3",
   "version": "3.8.5"
  }
 },
 "nbformat": 4,
 "nbformat_minor": 4
}
